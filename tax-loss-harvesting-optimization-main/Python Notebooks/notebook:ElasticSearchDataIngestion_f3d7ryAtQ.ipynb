{
 "cells": [
  {
   "cell_type": "code",
   "execution_count": 1,
   "metadata": {
    "id": "0e03d0b1-9068-49f5-921a-e854d3f9d7e3"
   },
   "outputs": [
    {
     "name": "stdout",
     "output_type": "stream",
     "text": [
      "Requirement already satisfied: elasticsearch in /opt/conda/envs/Python-RT24.1/lib/python3.11/site-packages (8.14.0)\n",
      "Requirement already satisfied: requests in /opt/conda/envs/Python-RT24.1/lib/python3.11/site-packages (2.32.2)\n",
      "Requirement already satisfied: numpy in /opt/conda/envs/Python-RT24.1/lib/python3.11/site-packages (1.26.4)\n",
      "Requirement already satisfied: sentence-transformers in /opt/conda/envs/Python-RT24.1/lib/python3.11/site-packages (3.3.1)\n",
      "Requirement already satisfied: elastic-transport<9,>=8.13 in /opt/conda/envs/Python-RT24.1/lib/python3.11/site-packages (from elasticsearch) (8.13.1)\n",
      "Requirement already satisfied: charset-normalizer<4,>=2 in /opt/conda/envs/Python-RT24.1/lib/python3.11/site-packages (from requests) (2.0.4)\n",
      "Requirement already satisfied: idna<4,>=2.5 in /opt/conda/envs/Python-RT24.1/lib/python3.11/site-packages (from requests) (3.7)\n",
      "Requirement already satisfied: urllib3<3,>=1.21.1 in /opt/conda/envs/Python-RT24.1/lib/python3.11/site-packages (from requests) (1.26.19)\n",
      "Requirement already satisfied: certifi>=2017.4.17 in /opt/conda/envs/Python-RT24.1/lib/python3.11/site-packages (from requests) (2024.8.30)\n",
      "Requirement already satisfied: transformers<5.0.0,>=4.41.0 in /opt/conda/envs/Python-RT24.1/lib/python3.11/site-packages (from sentence-transformers) (4.46.3)\n",
      "Requirement already satisfied: tqdm in /opt/conda/envs/Python-RT24.1/lib/python3.11/site-packages (from sentence-transformers) (4.66.4)\n",
      "Requirement already satisfied: torch>=1.11.0 in /opt/conda/envs/Python-RT24.1/lib/python3.11/site-packages (from sentence-transformers) (2.1.2)\n",
      "Requirement already satisfied: scikit-learn in /opt/conda/envs/Python-RT24.1/lib/python3.11/site-packages (from sentence-transformers) (1.3.0)\n",
      "Requirement already satisfied: scipy in /opt/conda/envs/Python-RT24.1/lib/python3.11/site-packages (from sentence-transformers) (1.11.4)\n",
      "Requirement already satisfied: huggingface-hub>=0.20.0 in /opt/conda/envs/Python-RT24.1/lib/python3.11/site-packages (from sentence-transformers) (0.26.2)\n",
      "Requirement already satisfied: Pillow in /opt/conda/envs/Python-RT24.1/lib/python3.11/site-packages (from sentence-transformers) (10.3.0)\n",
      "Requirement already satisfied: filelock in /opt/conda/envs/Python-RT24.1/lib/python3.11/site-packages (from huggingface-hub>=0.20.0->sentence-transformers) (3.13.1)\n",
      "Requirement already satisfied: fsspec>=2023.5.0 in /opt/conda/envs/Python-RT24.1/lib/python3.11/site-packages (from huggingface-hub>=0.20.0->sentence-transformers) (2023.10.0)\n",
      "Requirement already satisfied: packaging>=20.9 in /opt/conda/envs/Python-RT24.1/lib/python3.11/site-packages (from huggingface-hub>=0.20.0->sentence-transformers) (23.2)\n",
      "Requirement already satisfied: pyyaml>=5.1 in /opt/conda/envs/Python-RT24.1/lib/python3.11/site-packages (from huggingface-hub>=0.20.0->sentence-transformers) (6.0.1)\n",
      "Requirement already satisfied: typing-extensions>=3.7.4.3 in /opt/conda/envs/Python-RT24.1/lib/python3.11/site-packages (from huggingface-hub>=0.20.0->sentence-transformers) (4.11.0)\n",
      "Requirement already satisfied: sympy in /opt/conda/envs/Python-RT24.1/lib/python3.11/site-packages (from torch>=1.11.0->sentence-transformers) (1.12)\n",
      "Requirement already satisfied: networkx in /opt/conda/envs/Python-RT24.1/lib/python3.11/site-packages (from torch>=1.11.0->sentence-transformers) (3.2.1)\n",
      "Requirement already satisfied: jinja2 in /opt/conda/envs/Python-RT24.1/lib/python3.11/site-packages (from torch>=1.11.0->sentence-transformers) (3.1.4)\n",
      "Requirement already satisfied: regex!=2019.12.17 in /opt/conda/envs/Python-RT24.1/lib/python3.11/site-packages (from transformers<5.0.0,>=4.41.0->sentence-transformers) (2023.10.3)\n",
      "Requirement already satisfied: tokenizers<0.21,>=0.20 in /opt/conda/envs/Python-RT24.1/lib/python3.11/site-packages (from transformers<5.0.0,>=4.41.0->sentence-transformers) (0.20.3)\n",
      "Requirement already satisfied: safetensors>=0.4.1 in /opt/conda/envs/Python-RT24.1/lib/python3.11/site-packages (from transformers<5.0.0,>=4.41.0->sentence-transformers) (0.4.5)\n",
      "Requirement already satisfied: joblib>=1.1.1 in /opt/conda/envs/Python-RT24.1/lib/python3.11/site-packages (from scikit-learn->sentence-transformers) (1.3.2)\n",
      "Requirement already satisfied: threadpoolctl>=2.0.0 in /opt/conda/envs/Python-RT24.1/lib/python3.11/site-packages (from scikit-learn->sentence-transformers) (2.2.0)\n",
      "Requirement already satisfied: MarkupSafe>=2.0 in /opt/conda/envs/Python-RT24.1/lib/python3.11/site-packages (from jinja2->torch>=1.11.0->sentence-transformers) (2.1.3)\n",
      "Requirement already satisfied: mpmath>=0.19 in /opt/conda/envs/Python-RT24.1/lib/python3.11/site-packages (from sympy->torch>=1.11.0->sentence-transformers) (1.3.0)\n",
      "Note: you may need to restart the kernel to use updated packages.\n"
     ]
    }
   ],
   "source": [
    "pip install elasticsearch requests numpy sentence-transformers"
   ]
  },
  {
   "cell_type": "code",
   "execution_count": 2,
   "metadata": {
    "id": "1ef432e4-8e46-4ff4-95ce-4fd04bfe822b"
   },
   "outputs": [],
   "source": [
    "import types\n",
    "import pandas as pd\n",
    "import ibm_boto3\n",
    "from botocore.client import Config\n",
    "import json\n",
    "\n",
    "def __iter__(self): return 0\n",
    "\n",
    "# @hidden_cell\n",
    "# The following code accesses a file in your IBM Cloud Object Storage. It includes your credentials.\n",
    "# You might want to remove those credentials before you share your notebook.\n",
    "\n",
    "Cloud_Object_Storage_cx_client = ibm_boto3.client(\n",
    "    service_name='s3',\n",
    "    ibm_api_key_id='ADD YOUR API KEY HERE',\n",
    "    ibm_service_instance_id='crn:v1:bluemix:public:cloud-object-storage:global:a/255bb8163fa943e89de4555de2a7d13c:2a47ec7f-8695-42ae-bedd-8b091e397eea::',\n",
    "    ibm_auth_endpoint='https://iam.cloud.ibm.com/identity/token',\n",
    "    config=Config(signature_version='oauth'),\n",
    "    endpoint_url='https://s3.us-south.cloud-object-storage.appdomain.cloud'\n",
    ")\n",
    "bucket = '007tlhdata'\n",
    "object_key = 'json_customer_data/all_customers_data.json'\n",
    "\n",
    "body = Cloud_Object_Storage_cx_client.get_object(Bucket=bucket, Key=object_key)['Body'].read()\n",
    "\n",
    "\n",
    "# Decode the body into JSON\n",
    "data = json.loads(body)\n",
    "\n",
    "\n",
    "all_customer_data = json.loads(body)\n"
   ]
  },
  {
   "cell_type": "code",
   "execution_count": 3,
   "metadata": {
    "id": "9249119d-f454-4481-869b-c224ec530429"
   },
   "outputs": [
    {
     "name": "stderr",
     "output_type": "stream",
     "text": [
      "/opt/conda/envs/Python-RT24.1/lib/python3.11/site-packages/elasticsearch/_sync/client/__init__.py:399: SecurityWarning: Connecting to 'https://93c0666f-8d7e-4e02-8033-be74f8b98de7.c5km1ted03t0e8geevf0.databases.appdomain.cloud:31018' using TLS with verify_certs=False is insecure\n",
      "  _transport = transport_class(\n"
     ]
    }
   ],
   "source": [
    "import tempfile\n",
    "from elasticsearch import Elasticsearch\n",
    "import math\n",
    "from elasticsearch import Elasticsearch\n",
    "\n",
    "\n",
    "# Create an Elasticsearch client\n",
    "es = Elasticsearch(\n",
    "    \"https://93c0666f-8d7e-4e02-8033-be74f8b98de7.c5km1ted03t0e8geevf0.databases.appdomain.cloud:31018\",\n",
    "    verify_certs=False,\n",
    "    basic_auth=(\"ibm_cloud_4a5c6b85_9b6b_4332_9b9b_03278e2ed106\", \"35eda2f56e83b1c775a50e98cc711dfd1c7533b5f23232086eea2285f774f5fe\")\n",
    ")\n"
   ]
  },
  {
   "cell_type": "code",
   "execution_count": 4,
   "metadata": {
    "id": "8ed0c1dd-e5f6-44d4-8cab-49850d907b2a"
   },
   "outputs": [
    {
     "name": "stderr",
     "output_type": "stream",
     "text": [
      "/opt/conda/envs/Python-RT24.1/lib/python3.11/site-packages/urllib3/connectionpool.py:1063: InsecureRequestWarning: Unverified HTTPS request is being made to host '93c0666f-8d7e-4e02-8033-be74f8b98de7.c5km1ted03t0e8geevf0.databases.appdomain.cloud'. Adding certificate verification is strongly advised. See: https://urllib3.readthedocs.io/en/1.26.x/advanced-usage.html#ssl-warnings\n",
      "  warnings.warn(\n",
      "/opt/conda/envs/Python-RT24.1/lib/python3.11/site-packages/urllib3/connectionpool.py:1063: InsecureRequestWarning: Unverified HTTPS request is being made to host '93c0666f-8d7e-4e02-8033-be74f8b98de7.c5km1ted03t0e8geevf0.databases.appdomain.cloud'. Adding certificate verification is strongly advised. See: https://urllib3.readthedocs.io/en/1.26.x/advanced-usage.html#ssl-warnings\n",
      "  warnings.warn(\n"
     ]
    },
    {
     "name": "stdout",
     "output_type": "stream",
     "text": [
      "Index 'customer_portfolios' created successfully!\n"
     ]
    },
    {
     "name": "stderr",
     "output_type": "stream",
     "text": [
      "/opt/conda/envs/Python-RT24.1/lib/python3.11/site-packages/urllib3/connectionpool.py:1063: InsecureRequestWarning: Unverified HTTPS request is being made to host '93c0666f-8d7e-4e02-8033-be74f8b98de7.c5km1ted03t0e8geevf0.databases.appdomain.cloud'. Adding certificate verification is strongly advised. See: https://urllib3.readthedocs.io/en/1.26.x/advanced-usage.html#ssl-warnings\n",
      "  warnings.warn(\n"
     ]
    },
    {
     "name": "stdout",
     "output_type": "stream",
     "text": [
      "Data ingested successfully!\n"
     ]
    },
    {
     "name": "stderr",
     "output_type": "stream",
     "text": [
      "/opt/conda/envs/Python-RT24.1/lib/python3.11/site-packages/urllib3/connectionpool.py:1063: InsecureRequestWarning: Unverified HTTPS request is being made to host '93c0666f-8d7e-4e02-8033-be74f8b98de7.c5km1ted03t0e8geevf0.databases.appdomain.cloud'. Adding certificate verification is strongly advised. See: https://urllib3.readthedocs.io/en/1.26.x/advanced-usage.html#ssl-warnings\n",
      "  warnings.warn(\n"
     ]
    }
   ],
   "source": [
    "from elasticsearch import Elasticsearch, helpers\n",
    "from sentence_transformers import SentenceTransformer\n",
    "import numpy as np\n",
    "\n",
    "# Define index name\n",
    "index_name = \"customer_portfolios\"\n",
    "\n",
    "# Step 1: Create Index with Mapping\n",
    "def create_index():\n",
    "    mapping = {\n",
    "        \"mappings\": {\n",
    "            \"properties\": {\n",
    "                \"Customer ID\": {\"type\": \"keyword\"},\n",
    "                \"Executive Summary\": {\n",
    "                    \"properties\": {\n",
    "                        \"Customer Profile\": {\n",
    "                            \"properties\": {\n",
    "                                \"Risk Tolerance\": {\"type\": \"keyword\"},\n",
    "                                \"Preferred Sectors\": {\"type\": \"text\"},\n",
    "                                \"Investment Goals\": {\"type\": \"keyword\"}\n",
    "                            }\n",
    "                        },\n",
    "                        \"Portfolio Summary\": {\n",
    "                            \"properties\": {\n",
    "                                \"Total Current Value\": {\"type\": \"double\"},\n",
    "                                \"Net Unrealized Gain/Loss\": {\"type\": \"double\"}\n",
    "                            }\n",
    "                        }\n",
    "                    }\n",
    "                },\n",
    "                \"Portfolio Summary\": {\n",
    "                    \"properties\": {\n",
    "                        \"Total Initial Investment\": {\"type\": \"double\"},\n",
    "                        \"Total Current Value\": {\"type\": \"double\"},\n",
    "                        \"Net Unrealized Gain/Loss Percent\": {\"type\": \"double\"}\n",
    "                    }\n",
    "                },\n",
    "                \"combined_embedding\": {\n",
    "                    \"type\": \"dense_vector\",\n",
    "                    \"dims\": 384  # Matches the embedding dimensions\n",
    "                }\n",
    "            }\n",
    "        }\n",
    "    }\n",
    "\n",
    "    if not es.indices.exists(index=index_name):\n",
    "        es.indices.create(index=index_name, body=mapping)\n",
    "        print(f\"Index '{index_name}' created successfully!\")\n",
    "    else:\n",
    "        print(f\"Index '{index_name}' already exists!\")\n",
    "\n",
    "# Step 2: Generate Embeddings\n",
    "def generate_embedding(text):\n",
    "    model = SentenceTransformer('all-MiniLM-L6-v2')\n",
    "    embedding = model.encode(text)\n",
    "    return embedding.tolist()  # Convert to list for Elasticsearch\n",
    "\n",
    "# Step 3: Ingest Data\n",
    "def ingest_data(data):\n",
    "    for record in data:\n",
    "        customer_id = record[\"Customer ID\"]\n",
    "\n",
    "        # Combine text fields for embedding generation\n",
    "        combined_text = (\n",
    "            str(record[\"Executive Summary\"]) +\n",
    "            str(record.get(\"Portfolio Summary\", \"\")) +\n",
    "            str(record.get(\"Tax Loss Harvesting Analysis\", \"\")) +\n",
    "            str(record.get(\"Reinvestment Recommendations\", \"\"))\n",
    "        )\n",
    "\n",
    "        # Generate embeddings\n",
    "        embedding = generate_embedding(combined_text)\n",
    "\n",
    "        # Add embedding to the record\n",
    "        record[\"combined_embedding\"] = embedding\n",
    "\n",
    "        # Index the document\n",
    "        es.index(index=index_name, id=customer_id, body=record)\n",
    "\n",
    "    print(\"Data ingested successfully!\")\n",
    "\n",
    "# Main Execution\n",
    "if __name__ == \"__main__\":\n",
    "    all_customer_data = json.loads(body)\n",
    "    create_index()\n",
    "    ingest_data(all_customer_data)\n"
   ]
  },
  {
   "cell_type": "code",
   "execution_count": null,
   "metadata": {
    "id": "b1eb03a4-a413-445c-9ad4-0f60d0a876b4"
   },
   "outputs": [],
   "source": []
  }
 ],
 "metadata": {
  "kernelspec": {
   "display_name": "Python 3.11",
   "language": "python",
   "name": "python3"
  },
  "language_info": {
   "codemirror_mode": {
    "name": "ipython",
    "version": 3
   },
   "file_extension": ".py",
   "mimetype": "text/x-python",
   "name": "python",
   "nbconvert_exporter": "python",
   "pygments_lexer": "ipython3",
   "version": "3.11.9"
  }
 },
 "nbformat": 4,
 "nbformat_minor": 4
}
